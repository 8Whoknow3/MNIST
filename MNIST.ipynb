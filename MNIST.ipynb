{
 "cells": [
  {
   "cell_type": "code",
   "execution_count": 2,
   "id": "21afa011",
   "metadata": {},
   "outputs": [],
   "source": [
    "import torch\n",
    "import torch.nn as nn\n",
    "import torch.optim as optim\n",
    "import torch.nn.functional as F\n",
    "\n",
    "from torchvision import datasets, transforms\n",
    "from torch.utils.data import DataLoader, random_split\n",
    "\n",
    "from tqdm import tqdm\n",
    "\n",
    "from torchmetrics.classification import MulticlassF1Score, MulticlassAccuracy, ConfusionMatrix\n",
    "\n",
    "import matplotlib.pyplot as plt\n",
    "import seaborn as sns"
   ]
  },
  {
   "cell_type": "code",
   "execution_count": 3,
   "id": "365aa06a",
   "metadata": {},
   "outputs": [],
   "source": [
    "transform = transforms.Compose([\n",
    "    transforms.ToTensor(),\n",
    "    transforms.Normalize((0.5,), (0.5,))\n",
    "])"
   ]
  },
  {
   "cell_type": "code",
   "execution_count": 4,
   "id": "9a063d56",
   "metadata": {},
   "outputs": [],
   "source": [
    "train_dataset = datasets.MNIST(root='./data', train=True, download=True, transform=transform)\n",
    "test_dataset = datasets.MNIST(root='./data', train=False, download=True, transform=transform)"
   ]
  },
  {
   "cell_type": "code",
   "execution_count": 5,
   "id": "6ce8018b",
   "metadata": {},
   "outputs": [],
   "source": [
    "train_dataset, val_dataset = random_split(train_dataset, [50000, 10000])"
   ]
  },
  {
   "cell_type": "code",
   "execution_count": 6,
   "id": "6e8aeed6",
   "metadata": {},
   "outputs": [],
   "source": [
    "train = DataLoader(train_dataset, batch_size=64, shuffle=True)\n",
    "val = DataLoader(val_dataset, batch_size= 1000, shuffle=True)\n",
    "test = DataLoader(test_dataset, batch_size= 1000, shuffle=True)"
   ]
  },
  {
   "cell_type": "markdown",
   "id": "65b2aca6",
   "metadata": {},
   "source": [
    "### Linear Model"
   ]
  },
  {
   "cell_type": "code",
   "execution_count": 7,
   "id": "7be780b2",
   "metadata": {},
   "outputs": [],
   "source": [
    "class MNISTLinear(nn.Module) :\n",
    "    def __init__(self):\n",
    "        super().__init__()\n",
    "        self.flatten = nn.Flatten()\n",
    "        self.FC1 = nn.Linear(28 * 28, 128)\n",
    "        self.FC2 = nn.Linear(128, 64)\n",
    "        self.FC3 = nn.Linear(64, 10)\n",
    "\n",
    "    def forward(self, x):\n",
    "        x = self.flatten(x)\n",
    "        x = F.relu(self.FC1(x))\n",
    "        x = F.relu(self.FC2(x))\n",
    "        return F.log_softmax(self.FC3(x), dim=1)"
   ]
  },
  {
   "cell_type": "markdown",
   "id": "8ed24deb",
   "metadata": {},
   "source": [
    "### CNN Model"
   ]
  },
  {
   "cell_type": "code",
   "execution_count": 8,
   "id": "37f785ce",
   "metadata": {},
   "outputs": [],
   "source": [
    "class MNISTClassification(nn.Module):\n",
    "    def __init__(self):\n",
    "        super().__init__()\n",
    "\n",
    "        self.conv_block = nn.Sequential(\n",
    "            nn.Conv2d(1, 10, kernel_size=5),\n",
    "            nn.ReLU(),\n",
    "            nn.MaxPool2d(2),\n",
    "            nn.Conv2d(10, 20, kernel_size=5),\n",
    "            nn.Dropout2d(),\n",
    "            nn.ReLU(),\n",
    "            nn.MaxPool2d(2)\n",
    "        )\n",
    "\n",
    "        self.fc_block = nn.Sequential(\n",
    "            nn.Linear(320, 50),\n",
    "            nn.ReLU(),\n",
    "            nn.Dropout(),\n",
    "            nn.Linear(50, 10)\n",
    "        )\n",
    "\n",
    "    def forward(self, x):\n",
    "        x = self.conv_block(x)\n",
    "        x = x.view(x.size(0), -1)\n",
    "        x = self.fc_block(x)\n",
    "        return F.log_softmax(x, dim=1)"
   ]
  },
  {
   "cell_type": "markdown",
   "id": "0d453d39",
   "metadata": {},
   "source": [
    "### Training"
   ]
  },
  {
   "cell_type": "code",
   "execution_count": 9,
   "id": "a189990b",
   "metadata": {},
   "outputs": [],
   "source": [
    "device = torch.device(\"cuda\" if torch.cuda.is_available() else \"cpu\")\n",
    "\n",
    "LinearModel = MNISTLinear().to(device)\n",
    "loss_fn_Linear = nn.CrossEntropyLoss()\n",
    "optimizer_Linear = optim.AdamW(LinearModel.parameters())\n",
    "\n",
    "CNNmodel = MNISTClassification().to(device)\n",
    "loss_fn_CNN = nn.CrossEntropyLoss()\n",
    "optimizer_CNN = optim.AdamW(CNNmodel.parameters())"
   ]
  },
  {
   "cell_type": "code",
   "execution_count": 10,
   "id": "df6a0675",
   "metadata": {},
   "outputs": [],
   "source": [
    "def train_model(model, loss_fn, optimizer) :\n",
    "    for epoch in range(10) :\n",
    "        model.train()\n",
    "        train_loss = 0\n",
    "\n",
    "        loop = tqdm(train, desc=f\"Epoch {epoch+1}/{10} [Training]\", leave=False)\n",
    "        for images, labels in loop :\n",
    "            images, labels = images.to(device), labels.to(device)\n",
    "\n",
    "            optimizer.zero_grad()\n",
    "            output = model(images)\n",
    "            loss = loss_fn(output, labels)\n",
    "            loss.backward()\n",
    "            optimizer.step()\n",
    "\n",
    "            train_loss += loss.item()\n",
    "            loop.set_postfix(loss=loss.item())\n",
    "\n",
    "        model.eval()\n",
    "        val_loss = 0\n",
    "        f1 = MulticlassF1Score(num_classes=10, average='macro').to(device)\n",
    "        accuracy = MulticlassAccuracy(num_classes=10, average='macro').to(device)\n",
    "\n",
    "        with torch.no_grad() :\n",
    "            val_loop = tqdm(val, desc=f\"Epoch {epoch+1}/{10} [Validation]\", leave=False)\n",
    "            for images, labels in val_loop :\n",
    "                images, labels = images.to(device), labels.to(device)\n",
    "                outputs = model(images)\n",
    "                loss = loss_fn(outputs, labels)\n",
    "                val_loss += loss.item()\n",
    "\n",
    "                _, preds = torch.max(outputs, 1)\n",
    "                val_loop.set_postfix(loss=loss.item())\n",
    "\n",
    "                f1.update(preds, labels)\n",
    "                accuracy.update(preds, labels)\n",
    "        print(f\"Epoch {epoch+1} | Train Loss: {train_loss/len(train):.4f} | \"\n",
    "            f\"Val Loss: {val_loss/len(val):.4f} | Val F1: {f1.compute():.4f} | Val Acc: {accuracy.compute():.4f}\")\n",
    "    \n",
    "\n"
   ]
  },
  {
   "cell_type": "code",
   "execution_count": 11,
   "id": "f160307a",
   "metadata": {},
   "outputs": [
    {
     "name": "stderr",
     "output_type": "stream",
     "text": [
      "                                                                                     \r"
     ]
    },
    {
     "name": "stdout",
     "output_type": "stream",
     "text": [
      "Epoch 1 | Train Loss: 0.4222 | Val Loss: 0.2485 | Val F1: 0.9265 | Val Acc: 0.9270\n"
     ]
    },
    {
     "name": "stderr",
     "output_type": "stream",
     "text": [
      "                                                                                     \r"
     ]
    },
    {
     "name": "stdout",
     "output_type": "stream",
     "text": [
      "Epoch 2 | Train Loss: 0.2054 | Val Loss: 0.1841 | Val F1: 0.9440 | Val Acc: 0.9437\n"
     ]
    },
    {
     "name": "stderr",
     "output_type": "stream",
     "text": [
      "                                                                                     \r"
     ]
    },
    {
     "name": "stdout",
     "output_type": "stream",
     "text": [
      "Epoch 3 | Train Loss: 0.1558 | Val Loss: 0.1571 | Val F1: 0.9527 | Val Acc: 0.9524\n"
     ]
    },
    {
     "name": "stderr",
     "output_type": "stream",
     "text": [
      "                                                                                     \r"
     ]
    },
    {
     "name": "stdout",
     "output_type": "stream",
     "text": [
      "Epoch 4 | Train Loss: 0.1248 | Val Loss: 0.1279 | Val F1: 0.9604 | Val Acc: 0.9602\n"
     ]
    },
    {
     "name": "stderr",
     "output_type": "stream",
     "text": [
      "                                                                                     \r"
     ]
    },
    {
     "name": "stdout",
     "output_type": "stream",
     "text": [
      "Epoch 5 | Train Loss: 0.1045 | Val Loss: 0.1089 | Val F1: 0.9663 | Val Acc: 0.9662\n"
     ]
    },
    {
     "name": "stderr",
     "output_type": "stream",
     "text": [
      "                                                                                      \r"
     ]
    },
    {
     "name": "stdout",
     "output_type": "stream",
     "text": [
      "Epoch 6 | Train Loss: 0.0923 | Val Loss: 0.1462 | Val F1: 0.9552 | Val Acc: 0.9551\n"
     ]
    },
    {
     "name": "stderr",
     "output_type": "stream",
     "text": [
      "                                                                                      \r"
     ]
    },
    {
     "name": "stdout",
     "output_type": "stream",
     "text": [
      "Epoch 7 | Train Loss: 0.0817 | Val Loss: 0.1186 | Val F1: 0.9649 | Val Acc: 0.9654\n"
     ]
    },
    {
     "name": "stderr",
     "output_type": "stream",
     "text": [
      "                                                                                      \r"
     ]
    },
    {
     "name": "stdout",
     "output_type": "stream",
     "text": [
      "Epoch 8 | Train Loss: 0.0729 | Val Loss: 0.1149 | Val F1: 0.9638 | Val Acc: 0.9643\n"
     ]
    },
    {
     "name": "stderr",
     "output_type": "stream",
     "text": [
      "                                                                                      \r"
     ]
    },
    {
     "name": "stdout",
     "output_type": "stream",
     "text": [
      "Epoch 9 | Train Loss: 0.0679 | Val Loss: 0.1043 | Val F1: 0.9683 | Val Acc: 0.9680\n"
     ]
    },
    {
     "name": "stderr",
     "output_type": "stream",
     "text": [
      "                                                                                       "
     ]
    },
    {
     "name": "stdout",
     "output_type": "stream",
     "text": [
      "Epoch 10 | Train Loss: 0.0620 | Val Loss: 0.1115 | Val F1: 0.9670 | Val Acc: 0.9667\n"
     ]
    },
    {
     "name": "stderr",
     "output_type": "stream",
     "text": [
      "\r"
     ]
    }
   ],
   "source": [
    "train_model(LinearModel, loss_fn_Linear, optimizer_Linear)"
   ]
  },
  {
   "cell_type": "code",
   "execution_count": 12,
   "id": "7cfdd7b6",
   "metadata": {},
   "outputs": [
    {
     "name": "stderr",
     "output_type": "stream",
     "text": [
      "                                                                                    \r"
     ]
    },
    {
     "name": "stdout",
     "output_type": "stream",
     "text": [
      "Epoch 1 | Train Loss: 0.5904 | Val Loss: 0.1321 | Val F1: 0.9615 | Val Acc: 0.9614\n"
     ]
    },
    {
     "name": "stderr",
     "output_type": "stream",
     "text": [
      "                                                                                     \r"
     ]
    },
    {
     "name": "stdout",
     "output_type": "stream",
     "text": [
      "Epoch 2 | Train Loss: 0.2582 | Val Loss: 0.0935 | Val F1: 0.9722 | Val Acc: 0.9723\n"
     ]
    },
    {
     "name": "stderr",
     "output_type": "stream",
     "text": [
      "                                                                                      \r"
     ]
    },
    {
     "name": "stdout",
     "output_type": "stream",
     "text": [
      "Epoch 3 | Train Loss: 0.2092 | Val Loss: 0.0840 | Val F1: 0.9767 | Val Acc: 0.9767\n"
     ]
    },
    {
     "name": "stderr",
     "output_type": "stream",
     "text": [
      "                                                                                     \r"
     ]
    },
    {
     "name": "stdout",
     "output_type": "stream",
     "text": [
      "Epoch 4 | Train Loss: 0.1873 | Val Loss: 0.0714 | Val F1: 0.9787 | Val Acc: 0.9786\n"
     ]
    },
    {
     "name": "stderr",
     "output_type": "stream",
     "text": [
      "                                                                                     \r"
     ]
    },
    {
     "name": "stdout",
     "output_type": "stream",
     "text": [
      "Epoch 5 | Train Loss: 0.1734 | Val Loss: 0.0692 | Val F1: 0.9797 | Val Acc: 0.9797\n"
     ]
    },
    {
     "name": "stderr",
     "output_type": "stream",
     "text": [
      "                                                                                     \r"
     ]
    },
    {
     "name": "stdout",
     "output_type": "stream",
     "text": [
      "Epoch 6 | Train Loss: 0.1617 | Val Loss: 0.0618 | Val F1: 0.9822 | Val Acc: 0.9822\n"
     ]
    },
    {
     "name": "stderr",
     "output_type": "stream",
     "text": [
      "                                                                                     \r"
     ]
    },
    {
     "name": "stdout",
     "output_type": "stream",
     "text": [
      "Epoch 7 | Train Loss: 0.1560 | Val Loss: 0.0598 | Val F1: 0.9823 | Val Acc: 0.9823\n"
     ]
    },
    {
     "name": "stderr",
     "output_type": "stream",
     "text": [
      "                                                                                     \r"
     ]
    },
    {
     "name": "stdout",
     "output_type": "stream",
     "text": [
      "Epoch 8 | Train Loss: 0.1451 | Val Loss: 0.0595 | Val F1: 0.9836 | Val Acc: 0.9836\n"
     ]
    },
    {
     "name": "stderr",
     "output_type": "stream",
     "text": [
      "                                                                                     \r"
     ]
    },
    {
     "name": "stdout",
     "output_type": "stream",
     "text": [
      "Epoch 9 | Train Loss: 0.1414 | Val Loss: 0.0580 | Val F1: 0.9833 | Val Acc: 0.9833\n"
     ]
    },
    {
     "name": "stderr",
     "output_type": "stream",
     "text": [
      "                                                                                      "
     ]
    },
    {
     "name": "stdout",
     "output_type": "stream",
     "text": [
      "Epoch 10 | Train Loss: 0.1402 | Val Loss: 0.0579 | Val F1: 0.9832 | Val Acc: 0.9832\n"
     ]
    },
    {
     "name": "stderr",
     "output_type": "stream",
     "text": [
      "\r"
     ]
    }
   ],
   "source": [
    "train_model(CNNmodel, loss_fn_CNN, optimizer_CNN)"
   ]
  },
  {
   "cell_type": "markdown",
   "id": "dbf97c98",
   "metadata": {},
   "source": [
    "### Test verification"
   ]
  },
  {
   "cell_type": "code",
   "execution_count": 13,
   "id": "83e1ca50",
   "metadata": {},
   "outputs": [],
   "source": [
    "def creat_heatmap(confusion_matrix) :\n",
    "    plt.figure(figsize=(12, 7))\n",
    "    sns.heatmap(confusion_matrix.compute().to('cpu'),\n",
    "                annot=True, \n",
    "                fmt='d', \n",
    "                cmap='Blues', \n",
    "                linewidths=0.5, \n",
    "                square=True, \n",
    "                cbar_kws={\"shrink\": 0.75})\n",
    "\n",
    "    plt.title(\"Confusion Matrix\", fontsize=16)\n",
    "    plt.xlabel(\"Predicted Labels\", fontsize=14)\n",
    "    plt.ylabel(\"True Labels\", fontsize=14)\n",
    "    plt.xticks(fontsize=12)\n",
    "    plt.yticks(fontsize=12)\n",
    "    plt.tight_layout()\n",
    "    plt.show()"
   ]
  },
  {
   "cell_type": "code",
   "execution_count": 14,
   "id": "4854839a",
   "metadata": {},
   "outputs": [],
   "source": [
    "def test_verification(model) :\n",
    "    f1_test = MulticlassF1Score(num_classes=10, average='macro').to(device)\n",
    "    accuracy_test = MulticlassAccuracy(num_classes=10, average='macro').to(device)\n",
    "    CF = ConfusionMatrix(task='multiclass', num_classes=10).to(device)\n",
    "\n",
    "    with torch.no_grad() :\n",
    "        for images, labels in test :\n",
    "            images, labels = images.to(device), labels.to(device)\n",
    "            output = model(images)\n",
    "            f1_test.update(output, labels)\n",
    "            accuracy_test.update(output, labels)\n",
    "            CF.update(output, labels)\n",
    "\n",
    "    print(f\"Test Accuracy:{accuracy_test.compute():.4f} | Test F1:{f1_test.compute():.4f}\")\n",
    "    creat_heatmap(CF)"
   ]
  },
  {
   "cell_type": "code",
   "execution_count": 15,
   "id": "076fa91a",
   "metadata": {},
   "outputs": [
    {
     "name": "stdout",
     "output_type": "stream",
     "text": [
      "Test Accuracy:0.9693 | Test F1:0.9695\n"
     ]
    },
    {
     "data": {
      "image/png": "[encoded data removed]",
      "text/plain": [
       "<Figure size 1200x700 with 2 Axes>"
      ]
     },
     "metadata": {},
     "output_type": "display_data"
    }
   ],
   "source": [
    "test_verification(LinearModel)"
   ]
  },
  {
   "cell_type": "code",
   "execution_count": 16,
   "id": "07a37dae",
   "metadata": {},
   "outputs": [
    {
     "name": "stdout",
     "output_type": "stream",
     "text": [
      "Test Accuracy:0.9861 | Test F1:0.9862\n"
     ]
    },
    {
     "data": {
      "image/png": "[encoded data removed]",
      "text/plain": [
       "<Figure size 1200x700 with 2 Axes>"
      ]
     },
     "metadata": {},
     "output_type": "display_data"
    }
   ],
   "source": [
    "test_verification(CNNmodel)"
   ]
  },
  {
   "cell_type": "markdown",
   "id": "b8e47532",
   "metadata": {},
   "source": [
    "# Training Results\n",
    "\n",
    "## 📊 1. Linear Model\n",
    "\n",
    "| Epoch | Train Loss | Val Loss | Val F1 | Val Acc |\n",
    "| :---: | :--------: | :------: | :----: | :-----: |\n",
    "|   1   |   0.4222   |  0.2485  | 0.9265 |  0.9270 |\n",
    "|   2   |   0.2054   |  0.1841  | 0.9440 |  0.9437 |\n",
    "|   3   |   0.1558   |  0.1571  | 0.9527 |  0.9524 |\n",
    "|   4   |   0.1248   |  0.1279  | 0.9604 |  0.9602 |\n",
    "|   5   |   0.1045   |  0.1089  | 0.9663 |  0.9662 |\n",
    "|   6   |   0.0923   |  0.1462  | 0.9552 |  0.9551 |\n",
    "|   7   |   0.0817   |  0.1186  | 0.9649 |  0.9654 |\n",
    "|   8   |   0.0729   |  0.1149  | 0.9638 |  0.9643 |\n",
    "|   9   |   0.0679   |  0.1043  | 0.9683 |  0.9680 |\n",
    "|   10  |   0.0620   |  0.1115  | 0.9670 |  0.9667 |\n",
    "\n",
    "**🎯 Test Accuracy:** `0.9693`\n",
    "**🎯 Test F1 Score:** `0.9695`\n",
    "\n",
    "---\n",
    "\n",
    "## 🧠 2. CNN Model\n",
    "\n",
    "| Epoch | Train Loss | Val Loss | Val F1 | Val Acc |\n",
    "| :---: | :--------: | :------: | :----: | :-----: |\n",
    "|   1   |   0.5904   |  0.1321  | 0.9615 |  0.9614 |\n",
    "|   2   |   0.2582   |  0.0935  | 0.9722 |  0.9723 |\n",
    "|   3   |   0.2092   |  0.0840  | 0.9767 |  0.9767 |\n",
    "|   4   |   0.1873   |  0.0714  | 0.9787 |  0.9786 |\n",
    "|   5   |   0.1734   |  0.0692  | 0.9797 |  0.9797 |\n",
    "|   6   |   0.1617   |  0.0618  | 0.9822 |  0.9822 |\n",
    "|   7   |   0.1560   |  0.0598  | 0.9823 |  0.9823 |\n",
    "|   8   |   0.1451   |  0.0595  | 0.9836 |  0.9836 |\n",
    "|   9   |   0.1414   |  0.0580  | 0.9833 |  0.9833 |\n",
    "|   10  |   0.1402   |  0.0579  | 0.9832 |  0.9832 |\n",
    "\n",
    "**🎯 Test Accuracy:** `0.9861`\n",
    "**🎯 Test F1 Score:** `0.9862`\n",
    "\n",
    "---\n",
    "\n",
    "## 🔍 Final Comparison\n",
    "\n",
    "| Metric        | 🧮 Linear Model | 🧠 CNN Model           |\n",
    "| ------------- | --------------- | ---------------------- |\n",
    "| Final Val Acc | 0.9667          | 0.9832                 |\n",
    "| Final Val F1  | 0.9670          | 0.9832                 |\n",
    "| Test Accuracy | 0.9629          | 0.9861                 |\n",
    "| Test F1 Score | 0.9628          | 0.9862                 |\n",
    "| Convergence   | Slower          | Faster                 |\n",
    "| Model Size    | Smaller         | Larger                 |\n",
    "| Feature Use   | Raw Pixels      | Local Spatial Patterns |\n",
    "\n",
    "---\n",
    "\n",
    "## ✅ Summary\n",
    "\n",
    "* The **CNN model** still significantly outperforms the **Linear model**, especially in terms of generalization on the test set.\n",
    "* CNN’s convolutional layers help it extract local spatial features, making it more effective and quicker to converge.\n",
    "* The **Linear model**, although less accurate, is simpler and may be suitable for fast prototyping or deployment in resource-constrained environments.\n"
   ]
  }
 ],
 "metadata": {
  "kernelspec": {
   "display_name": "torch",
   "language": "python",
   "name": "python3"
  },
  "language_info": {
   "codemirror_mode": {
    "name": "ipython",
    "version": 3
   },
   "file_extension": ".py",
   "mimetype": "text/x-python",
   "name": "python",
   "nbconvert_exporter": "python",
   "pygments_lexer": "ipython3",
   "version": "3.10.18"
  }
 },
 "nbformat": 4,
 "nbformat_minor": 5
}
