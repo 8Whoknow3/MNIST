{
 "cells": [
  {
   "cell_type": "code",
   "execution_count": 25,
   "id": "21afa011",
   "metadata": {},
   "outputs": [],
   "source": [
    "import torch\n",
    "import torch.nn as nn\n",
    "import torch.optim as optim\n",
    "import torch.nn.functional as F\n",
    "\n",
    "from torchvision import datasets, transforms\n",
    "from torch.utils.data import DataLoader, random_split\n",
    "\n",
    "from tqdm import tqdm\n",
    "\n",
    "from torchmetrics.classification import MulticlassF1Score, MulticlassAccuracy, ConfusionMatrix\n",
    "\n",
    "import matplotlib.pyplot as plt\n",
    "import seaborn as sns"
   ]
  },
  {
   "cell_type": "code",
   "execution_count": 2,
   "id": "365aa06a",
   "metadata": {},
   "outputs": [],
   "source": [
    "transform = transforms.Compose([\n",
    "    transforms.ToTensor(),\n",
    "    transforms.Normalize((0.5,), (0.5,))\n",
    "])"
   ]
  },
  {
   "cell_type": "code",
   "execution_count": 3,
   "id": "9a063d56",
   "metadata": {},
   "outputs": [],
   "source": [
    "train_dataset = datasets.MNIST(root='./data', train=True, download=True, transform=transform)\n",
    "test_dataset = datasets.MNIST(root='./data', train=False, download=True, transform=transform)"
   ]
  },
  {
   "cell_type": "code",
   "execution_count": 4,
   "id": "6ce8018b",
   "metadata": {},
   "outputs": [],
   "source": [
    "train_dataset, val_dataset = random_split(train_dataset, [50000, 10000])"
   ]
  },
  {
   "cell_type": "code",
   "execution_count": 5,
   "id": "6e8aeed6",
   "metadata": {},
   "outputs": [],
   "source": [
    "train = DataLoader(train_dataset, batch_size=64, shuffle=True)\n",
    "val = DataLoader(val_dataset, batch_size= 1000, shuffle=True)\n",
    "test = DataLoader(test_dataset, batch_size= 1000, shuffle=True)"
   ]
  },
  {
   "cell_type": "code",
   "execution_count": 42,
   "id": "37f785ce",
   "metadata": {},
   "outputs": [],
   "source": [
    "class MNISTClassification(nn.Module):\n",
    "    def __init__(self):\n",
    "        super().__init__()\n",
    "\n",
    "        self.conv_block = nn.Sequential(\n",
    "            nn.Conv2d(1, 10, kernel_size=5),\n",
    "            nn.ReLU(),\n",
    "            nn.MaxPool2d(2),\n",
    "            nn.Conv2d(10, 20, kernel_size=5),\n",
    "            nn.Dropout2d(),\n",
    "            nn.ReLU(),\n",
    "            nn.MaxPool2d(2)\n",
    "        )\n",
    "\n",
    "        self.fc_block = nn.Sequential(\n",
    "            nn.Linear(320, 50),\n",
    "            nn.ReLU(),\n",
    "            nn.Dropout(),\n",
    "            nn.Linear(50, 10)\n",
    "        )\n",
    "\n",
    "    def forward(self, x):\n",
    "        x = self.conv_block(x)\n",
    "        x = x.view(x.size(0), -1)\n",
    "        x = self.fc_block(x)\n",
    "        return F.log_softmax(x, dim=1)"
   ]
  },
  {
   "cell_type": "code",
   "execution_count": 43,
   "id": "a189990b",
   "metadata": {},
   "outputs": [],
   "source": [
    "device = torch.device(\"cuda\" if torch.cuda.is_available() else \"cpu\")\n",
    "model = MNISTClassification().to(device=device)\n",
    "loss_fn = nn.CrossEntropyLoss()\n",
    "optimizer = optim.AdamW(model.parameters())"
   ]
  },
  {
   "cell_type": "code",
   "execution_count": 44,
   "id": "f160307a",
   "metadata": {},
   "outputs": [
    {
     "name": "stderr",
     "output_type": "stream",
     "text": [
      "                                                                                    \r"
     ]
    },
    {
     "name": "stdout",
     "output_type": "stream",
     "text": [
      "Epoch 1 | Train Loss: 0.6291 | Val Loss: 0.1312 | Val F1: 0.9585 | Val Acc: 0.9587\n"
     ]
    },
    {
     "name": "stderr",
     "output_type": "stream",
     "text": [
      "                                                                                     \r"
     ]
    },
    {
     "name": "stdout",
     "output_type": "stream",
     "text": [
      "Epoch 2 | Train Loss: 0.2794 | Val Loss: 0.0946 | Val F1: 0.9684 | Val Acc: 0.9684\n"
     ]
    },
    {
     "name": "stderr",
     "output_type": "stream",
     "text": [
      "                                                                                     \r"
     ]
    },
    {
     "name": "stdout",
     "output_type": "stream",
     "text": [
      "Epoch 3 | Train Loss: 0.2288 | Val Loss: 0.0744 | Val F1: 0.9760 | Val Acc: 0.9760\n"
     ]
    },
    {
     "name": "stderr",
     "output_type": "stream",
     "text": [
      "                                                                                     \r"
     ]
    },
    {
     "name": "stdout",
     "output_type": "stream",
     "text": [
      "Epoch 4 | Train Loss: 0.2007 | Val Loss: 0.0681 | Val F1: 0.9780 | Val Acc: 0.9781\n"
     ]
    },
    {
     "name": "stderr",
     "output_type": "stream",
     "text": [
      "                                                                                     \r"
     ]
    },
    {
     "name": "stdout",
     "output_type": "stream",
     "text": [
      "Epoch 5 | Train Loss: 0.1846 | Val Loss: 0.0656 | Val F1: 0.9793 | Val Acc: 0.9793\n"
     ]
    },
    {
     "name": "stderr",
     "output_type": "stream",
     "text": [
      "                                                                                     \r"
     ]
    },
    {
     "name": "stdout",
     "output_type": "stream",
     "text": [
      "Epoch 6 | Train Loss: 0.1729 | Val Loss: 0.0604 | Val F1: 0.9805 | Val Acc: 0.9805\n"
     ]
    },
    {
     "name": "stderr",
     "output_type": "stream",
     "text": [
      "                                                                                     \r"
     ]
    },
    {
     "name": "stdout",
     "output_type": "stream",
     "text": [
      "Epoch 7 | Train Loss: 0.1719 | Val Loss: 0.0559 | Val F1: 0.9827 | Val Acc: 0.9827\n"
     ]
    },
    {
     "name": "stderr",
     "output_type": "stream",
     "text": [
      "                                                                                     \r"
     ]
    },
    {
     "name": "stdout",
     "output_type": "stream",
     "text": [
      "Epoch 8 | Train Loss: 0.1581 | Val Loss: 0.0546 | Val F1: 0.9825 | Val Acc: 0.9824\n"
     ]
    },
    {
     "name": "stderr",
     "output_type": "stream",
     "text": [
      "                                                                                     \r"
     ]
    },
    {
     "name": "stdout",
     "output_type": "stream",
     "text": [
      "Epoch 9 | Train Loss: 0.1531 | Val Loss: 0.0579 | Val F1: 0.9819 | Val Acc: 0.9821\n"
     ]
    },
    {
     "name": "stderr",
     "output_type": "stream",
     "text": [
      "                                                                                      "
     ]
    },
    {
     "name": "stdout",
     "output_type": "stream",
     "text": [
      "Epoch 10 | Train Loss: 0.1469 | Val Loss: 0.0496 | Val F1: 0.9851 | Val Acc: 0.9852\n"
     ]
    },
    {
     "name": "stderr",
     "output_type": "stream",
     "text": [
      "\r"
     ]
    }
   ],
   "source": [
    "for epoch in range(10) :\n",
    "    model.train()\n",
    "    train_loss = 0\n",
    "\n",
    "    loop = tqdm(train, desc=f\"Epoch {epoch+1}/{10} [Training]\", leave=False)\n",
    "    for images, labels in loop :\n",
    "        images, labels = images.to(device), labels.to(device)\n",
    "\n",
    "        optimizer.zero_grad()\n",
    "        output = model(images)\n",
    "        loss = loss_fn(output, labels)\n",
    "        loss.backward()\n",
    "        optimizer.step()\n",
    "\n",
    "        train_loss += loss.item()\n",
    "        loop.set_postfix(loss=loss.item())\n",
    "\n",
    "    model.eval()\n",
    "    val_loss = 0\n",
    "    f1 = MulticlassF1Score(num_classes=10, average='macro').to(device)\n",
    "    accuracy = MulticlassAccuracy(num_classes=10, average='macro').to(device)\n",
    "\n",
    "    with torch.no_grad() :\n",
    "        val_loop = tqdm(val, desc=f\"Epoch {epoch+1}/{10} [Validation]\", leave=False)\n",
    "        for images, labels in val_loop :\n",
    "            images, labels = images.to(device), labels.to(device)\n",
    "            outputs = model(images)\n",
    "            loss = loss_fn(outputs, labels)\n",
    "            val_loss += loss.item()\n",
    "\n",
    "            _, preds = torch.max(outputs, 1)\n",
    "            val_loop.set_postfix(loss=loss.item())\n",
    "\n",
    "            f1.update(preds, labels)\n",
    "            accuracy.update(preds, labels)\n",
    "    print(f\"Epoch {epoch+1} | Train Loss: {train_loss/len(train):.4f} | \"\n",
    "          f\"Val Loss: {val_loss/len(val):.4f} | Val F1: {f1.compute():.4f} | Val Acc: {accuracy.compute():.4f}\")\n",
    "    \n",
    "\n"
   ]
  },
  {
   "cell_type": "code",
   "execution_count": 45,
   "id": "076fa91a",
   "metadata": {},
   "outputs": [
    {
     "name": "stdout",
     "output_type": "stream",
     "text": [
      "Test Accuracy:0.9870 | Test F1:0.9869\n"
     ]
    }
   ],
   "source": [
    "f1_test = MulticlassF1Score(num_classes=10, average='macro').to(device)\n",
    "accuracy_test = MulticlassAccuracy(num_classes=10, average='macro').to(device)\n",
    "CF = ConfusionMatrix(task='multiclass', num_classes=10).to(device)\n",
    "\n",
    "with torch.no_grad() :\n",
    "    for images, labels in test :\n",
    "        images, labels = images.to(device), labels.to(device)\n",
    "        output = model(images)\n",
    "        f1_test.update(output, labels)\n",
    "        accuracy_test.update(output, labels)\n",
    "        CF.update(output, labels)\n",
    "\n",
    "print(f\"Test Accuracy:{accuracy_test.compute():.4f} | Test F1:{f1_test.compute():.4f}\")"
   ]
  },
  {
   "cell_type": "markdown",
   "id": "b8e47532",
   "metadata": {},
   "source": [
    "## Result\n",
    "### Training and Validation Results\n",
    "\n",
    "| Epoch | Train Loss | Val Loss | Val F1  | Val Acc |\n",
    "|-------|------------|----------|---------|---------|\n",
    "| 1     | 0.6291     | 0.1312   | 0.9585  | 0.9587  |\n",
    "| 2     | 0.2794     | 0.0946   | 0.9684  | 0.9684  |\n",
    "| 3     | 0.2288     | 0.0744   | 0.9760  | 0.9760  |\n",
    "| 4     | 0.2007     | 0.0681   | 0.9780  | 0.9781  |\n",
    "| 5     | 0.1846     | 0.0656   | 0.9793  | 0.9793  |\n",
    "| 6     | 0.1729     | 0.0604   | 0.9805  | 0.9805  |\n",
    "| 7     | 0.1719     | 0.0559   | 0.9827  | 0.9827  |\n",
    "| 8     | 0.1581     | 0.0546   | 0.9825  | 0.9824  |\n",
    "| 9     | 0.1531     | 0.0579   | 0.9819  | 0.9821  |\n",
    "| 10    | 0.1469     | 0.0496   | 0.9851  | 0.9852  |\n",
    "\n",
    "### Final Test Results\n",
    "\n",
    "- **Test Accuracy:** 0.9870  \n",
    "- **Test F1 Score:** 0.9869\n"
   ]
  },
  {
   "cell_type": "markdown",
   "id": "f89741f6",
   "metadata": {},
   "source": [
    "### Confusing Matrix"
   ]
  },
  {
   "cell_type": "code",
   "execution_count": 50,
   "id": "c5bfd421",
   "metadata": {},
   "outputs": [
    {
     "data": {
      "image/png": "[encoded data removed]",
      "text/plain": [
       "<Figure size 1200x700 with 2 Axes>"
      ]
     },
     "metadata": {},
     "output_type": "display_data"
    }
   ],
   "source": [
    "plt.figure(figsize=(12, 7))\n",
    "sns.heatmap(CF.compute().to('cpu'),\n",
    "            annot=True, \n",
    "            fmt='d', \n",
    "            cmap='Blues', \n",
    "            linewidths=0.5, \n",
    "            square=True, \n",
    "            cbar_kws={\"shrink\": 0.75})\n",
    "\n",
    "plt.title(\"Confusion Matrix\", fontsize=16)\n",
    "plt.xlabel(\"Predicted Labels\", fontsize=14)\n",
    "plt.ylabel(\"True Labels\", fontsize=14)\n",
    "plt.xticks(fontsize=12)\n",
    "plt.yticks(fontsize=12)\n",
    "plt.tight_layout()\n",
    "plt.show()"
   ]
  }
 ],
 "metadata": {
  "kernelspec": {
   "display_name": "torch",
   "language": "python",
   "name": "python3"
  },
  "language_info": {
   "codemirror_mode": {
    "name": "ipython",
    "version": 3
   },
   "file_extension": ".py",
   "mimetype": "text/x-python",
   "name": "python",
   "nbconvert_exporter": "python",
   "pygments_lexer": "ipython3",
   "version": "3.10.18"
  }
 },
 "nbformat": 4,
 "nbformat_minor": 5
}
